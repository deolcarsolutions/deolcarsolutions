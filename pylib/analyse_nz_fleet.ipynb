{
 "cells": [
  {
   "cell_type": "code",
   "execution_count": 66,
   "metadata": {},
   "outputs": [],
   "source": [
    "\"\"\"\n",
    "New Zealand vehicle fleet open source data at:\n",
    "https://nzta.govt.nz/resources/new-zealand-motor-vehicle-register-statistics/new-zealand-vehicle-fleet-open-data-sets/\n",
    "and\n",
    "https://nzta.govt.nz/assets/resources/new-zealand-vehicle-fleet-open-data-sets/OpenMVR-Question-and-answers-201808.pdf\n",
    "\"\"\"\n",
    "import pandas as pd\n",
    "import zipfile"
   ]
  },
  {
   "cell_type": "code",
   "execution_count": 67,
   "metadata": {},
   "outputs": [
    {
     "name": "stdout",
     "output_type": "stream",
     "text": [
      "['AUDI', 'BMW', 'FORD', 'HOLDEN', 'HONDA', 'HYUNDAI', 'KIA', 'LEXUS', 'MAZDA', 'MERCEDES-BENZ', 'MITSUBISHI', 'NISSAN', 'SUBARU', 'SUZUKI', 'TOYOTA', 'VOLKSWAGEN']\n"
     ]
    }
   ],
   "source": [
    "makes = \"audi,bmw,ford,holden,honda,hyundai,kia,lexus,mazda,mercedes-benz,mitsubishi,nissan,subaru,\"\n",
    "makes += \"suzuki,toyota,volkswagen\"\n",
    "makes = makes.upper()\n",
    "makes = makes.split(\",\")\n",
    "print(makes)"
   ]
  },
  {
   "cell_type": "code",
   "execution_count": 68,
   "metadata": {},
   "outputs": [],
   "source": [
    "zf = zipfile.ZipFile(\"data/Fleet-data-all-vehicle-years.zip\")"
   ]
  },
  {
   "cell_type": "code",
   "execution_count": 69,
   "metadata": {},
   "outputs": [],
   "source": [
    "df = pd.read_csv(zf.open('Fleet-29Feb2020.csv'))"
   ]
  },
  {
   "cell_type": "code",
   "execution_count": 70,
   "metadata": {},
   "outputs": [],
   "source": [
    "df_make_year = df[['MAKE', 'FIRST_NZ_REGISTRATION_YEAR']]"
   ]
  },
  {
   "cell_type": "code",
   "execution_count": 71,
   "metadata": {},
   "outputs": [
    {
     "data": {
      "text/plain": [
       "MAKE                          NISSAN\n",
       "FIRST_NZ_REGISTRATION_YEAR      2014\n",
       "Name: 33, dtype: object"
      ]
     },
     "execution_count": 71,
     "metadata": {},
     "output_type": "execute_result"
    }
   ],
   "source": [
    "df_make_year.iloc[33]"
   ]
  },
  {
   "cell_type": "code",
   "execution_count": 72,
   "metadata": {},
   "outputs": [
    {
     "data": {
      "text/plain": [
       "MAKE                          NISSAN\n",
       "FIRST_NZ_REGISTRATION_YEAR      2014\n",
       "Name: 33, dtype: object"
      ]
     },
     "execution_count": 72,
     "metadata": {},
     "output_type": "execute_result"
    }
   ],
   "source": [
    "df_make_year.loc[33]"
   ]
  },
  {
   "cell_type": "code",
   "execution_count": 73,
   "metadata": {},
   "outputs": [],
   "source": [
    "a = df_make_year.loc[ \n",
    "        df_make_year['MAKE'].isin(makes)\n",
    "]"
   ]
  },
  {
   "cell_type": "code",
   "execution_count": 74,
   "metadata": {},
   "outputs": [],
   "source": [
    "b = a.loc[\n",
    "    a['FIRST_NZ_REGISTRATION_YEAR'] >= 1995\n",
    "]"
   ]
  },
  {
   "cell_type": "code",
   "execution_count": 75,
   "metadata": {},
   "outputs": [
    {
     "data": {
      "text/html": [
       "<div>\n",
       "<style scoped>\n",
       "    .dataframe tbody tr th:only-of-type {\n",
       "        vertical-align: middle;\n",
       "    }\n",
       "\n",
       "    .dataframe tbody tr th {\n",
       "        vertical-align: top;\n",
       "    }\n",
       "\n",
       "    .dataframe thead th {\n",
       "        text-align: right;\n",
       "    }\n",
       "</style>\n",
       "<table border=\"1\" class=\"dataframe\">\n",
       "  <thead>\n",
       "    <tr style=\"text-align: right;\">\n",
       "      <th></th>\n",
       "      <th>MAKE</th>\n",
       "      <th>FIRST_NZ_REGISTRATION_YEAR</th>\n",
       "    </tr>\n",
       "  </thead>\n",
       "  <tbody>\n",
       "    <tr>\n",
       "      <th>2</th>\n",
       "      <td>HOLDEN</td>\n",
       "      <td>2005.0</td>\n",
       "    </tr>\n",
       "    <tr>\n",
       "      <th>4</th>\n",
       "      <td>TOYOTA</td>\n",
       "      <td>2011.0</td>\n",
       "    </tr>\n",
       "    <tr>\n",
       "      <th>5</th>\n",
       "      <td>FORD</td>\n",
       "      <td>2012.0</td>\n",
       "    </tr>\n",
       "    <tr>\n",
       "      <th>6</th>\n",
       "      <td>HOLDEN</td>\n",
       "      <td>2009.0</td>\n",
       "    </tr>\n",
       "    <tr>\n",
       "      <th>7</th>\n",
       "      <td>MITSUBISHI</td>\n",
       "      <td>2017.0</td>\n",
       "    </tr>\n",
       "    <tr>\n",
       "      <th>...</th>\n",
       "      <td>...</td>\n",
       "      <td>...</td>\n",
       "    </tr>\n",
       "    <tr>\n",
       "      <th>5381847</th>\n",
       "      <td>TOYOTA</td>\n",
       "      <td>2017.0</td>\n",
       "    </tr>\n",
       "    <tr>\n",
       "      <th>5381848</th>\n",
       "      <td>SUZUKI</td>\n",
       "      <td>2018.0</td>\n",
       "    </tr>\n",
       "    <tr>\n",
       "      <th>5381849</th>\n",
       "      <td>NISSAN</td>\n",
       "      <td>2019.0</td>\n",
       "    </tr>\n",
       "    <tr>\n",
       "      <th>5381855</th>\n",
       "      <td>TOYOTA</td>\n",
       "      <td>2013.0</td>\n",
       "    </tr>\n",
       "    <tr>\n",
       "      <th>5381856</th>\n",
       "      <td>TOYOTA</td>\n",
       "      <td>2011.0</td>\n",
       "    </tr>\n",
       "  </tbody>\n",
       "</table>\n",
       "<p>3733105 rows × 2 columns</p>\n",
       "</div>"
      ],
      "text/plain": [
       "               MAKE  FIRST_NZ_REGISTRATION_YEAR\n",
       "2            HOLDEN                      2005.0\n",
       "4            TOYOTA                      2011.0\n",
       "5              FORD                      2012.0\n",
       "6            HOLDEN                      2009.0\n",
       "7        MITSUBISHI                      2017.0\n",
       "...             ...                         ...\n",
       "5381847      TOYOTA                      2017.0\n",
       "5381848      SUZUKI                      2018.0\n",
       "5381849      NISSAN                      2019.0\n",
       "5381855      TOYOTA                      2013.0\n",
       "5381856      TOYOTA                      2011.0\n",
       "\n",
       "[3733105 rows x 2 columns]"
      ]
     },
     "execution_count": 75,
     "metadata": {},
     "output_type": "execute_result"
    }
   ],
   "source": [
    "b"
   ]
  },
  {
   "cell_type": "code",
   "execution_count": 76,
   "metadata": {},
   "outputs": [],
   "source": [
    "c = b.loc[ (b.MAKE == 'TOYOTA') & (b.FIRST_NZ_REGISTRATION_YEAR == 2020) ].count()"
   ]
  },
  {
   "cell_type": "code",
   "execution_count": 77,
   "metadata": {},
   "outputs": [
    {
     "data": {
      "text/plain": [
       "10192"
      ]
     },
     "execution_count": 77,
     "metadata": {},
     "output_type": "execute_result"
    }
   ],
   "source": [
    "c.MAKE"
   ]
  },
  {
   "cell_type": "code",
   "execution_count": 78,
   "metadata": {},
   "outputs": [],
   "source": [
    "meData = dict.fromkeys(makes)"
   ]
  },
  {
   "cell_type": "code",
   "execution_count": 79,
   "metadata": {},
   "outputs": [],
   "source": [
    "for make in makes:\n",
    "    numVehiclesInYear = []\n",
    "    year = 0\n",
    "    for year in range(1995,2021):\n",
    "        #count is dataframe nt int\n",
    "        count =  b.loc[ (b.MAKE == make) & (b.FIRST_NZ_REGISTRATION_YEAR == year) ].count()\n",
    "        numVehiclesInYear.append((year, count.MAKE))\n",
    "    meData[make] = numVehiclesInYear"
   ]
  },
  {
   "cell_type": "code",
   "execution_count": 80,
   "metadata": {},
   "outputs": [
    {
     "data": {
      "text/plain": [
       "[(1995, 2484),\n",
       " (1996, 3947),\n",
       " (1997, 4690),\n",
       " (1998, 3807),\n",
       " (1999, 3688),\n",
       " (2000, 3784),\n",
       " (2001, 4570),\n",
       " (2002, 6460),\n",
       " (2003, 9125),\n",
       " (2004, 11144),\n",
       " (2005, 12828),\n",
       " (2006, 13325),\n",
       " (2007, 14276),\n",
       " (2008, 11954),\n",
       " (2009, 9111),\n",
       " (2010, 10990),\n",
       " (2011, 9882),\n",
       " (2012, 10560),\n",
       " (2013, 12891),\n",
       " (2014, 16476),\n",
       " (2015, 18769),\n",
       " (2016, 19373),\n",
       " (2017, 21133),\n",
       " (2018, 21318),\n",
       " (2019, 21630),\n",
       " (2020, 3387)]"
      ]
     },
     "execution_count": 80,
     "metadata": {},
     "output_type": "execute_result"
    }
   ],
   "source": [
    "meData['HONDA']"
   ]
  },
  {
   "cell_type": "code",
   "execution_count": 84,
   "metadata": {},
   "outputs": [],
   "source": [
    "with open(\"selected_nz_fleet.csv\", 'w') as f:\n",
    "    colNames =\"Series Name,Make\"\n",
    "    for i in range(1995,2021):\n",
    "        colNames += \",\"+str(i)\n",
    "    f.write(colNames+\"\\n\")\n",
    "    for make in meData:\n",
    "        f.write(\"Number of vehicles,\" + make + \",\" +\n",
    "                \",\".join(str(nums[1]) for nums in meData[make])+\"\\n\"\n",
    "               )"
   ]
  },
  {
   "cell_type": "code",
   "execution_count": null,
   "metadata": {},
   "outputs": [],
   "source": []
  }
 ],
 "metadata": {
  "kernelspec": {
   "display_name": "Python 3",
   "language": "python",
   "name": "python3"
  },
  "language_info": {
   "codemirror_mode": {
    "name": "ipython",
    "version": 3
   },
   "file_extension": ".py",
   "mimetype": "text/x-python",
   "name": "python",
   "nbconvert_exporter": "python",
   "pygments_lexer": "ipython3",
   "version": "3.6.9"
  }
 },
 "nbformat": 4,
 "nbformat_minor": 2
}
